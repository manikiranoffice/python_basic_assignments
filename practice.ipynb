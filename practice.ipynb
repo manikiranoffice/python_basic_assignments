{
 "cells": [
  {
   "cell_type": "code",
   "execution_count": 1,
   "id": "8c539509",
   "metadata": {},
   "outputs": [
    {
     "name": "stdout",
     "output_type": "stream",
     "text": [
      "input a number less than 3424\n"
     ]
    }
   ],
   "source": [
    "a=int(input(\"input a number less than 34\"))"
   ]
  },
  {
   "cell_type": "code",
   "execution_count": 2,
   "id": "f8dfa617",
   "metadata": {},
   "outputs": [
    {
     "name": "stdout",
     "output_type": "stream",
     "text": [
      "entered value is lesser than 34\n"
     ]
    }
   ],
   "source": [
    "if a<34:\n",
    "  print(\"entered value is lesser than 34\")\n",
    "else: print(\"entered value greater than or not equal to 34\")           "
   ]
  },
  {
   "cell_type": "code",
   "execution_count": 3,
   "id": "ca8ffd23",
   "metadata": {},
   "outputs": [
    {
     "name": "stdout",
     "output_type": "stream",
     "text": [
      "input a number less than 3456\n"
     ]
    }
   ],
   "source": [
    "a=int(input(\"input a number less than 34\"))"
   ]
  },
  {
   "cell_type": "code",
   "execution_count": 4,
   "id": "a01e5194",
   "metadata": {},
   "outputs": [
    {
     "name": "stdout",
     "output_type": "stream",
     "text": [
      "entered value greater than or not equal to 34\n"
     ]
    }
   ],
   "source": [
    "if a<34:\n",
    "print(\"entered value is lesser than 34\")\n",
    "else: print(\"entered value greater than or not equal to 34\")         "
   ]
  },
  {
   "cell_type": "code",
   "execution_count": null,
   "id": "c33282d6",
   "metadata": {},
   "outputs": [
    {
     "ename": "IndentationError",
     "evalue": "expected an indented block (Temp/ipykernel_17348/3893804988.py, line 2)",
     "output_type": "error",
     "traceback": [
      "\u001b[1;36m  File \u001b[1;32m\"C:\\Users\\manik\\AppData\\Local\\Temp/ipykernel_17348/3893804988.py\"\u001b[1;36m, line \u001b[1;32m2\u001b[0m\n\u001b[1;33m    print(\"entered value is lesser than 34\")\u001b[0m\n\u001b[1;37m    ^\u001b[0m\n\u001b[1;31mIndentationError\u001b[0m\u001b[1;31m:\u001b[0m expected an indented block\n"
     ]
    }
   ],
   "source": [
    "if a<34:\n",
    "    \n",
    "    print(\"entered value is lesser than 34\")\n",
    "else: \n",
    "    print(\"entered value greater than or not equal to 34\")     "
   ]
  },
  {
   "cell_type": "code",
   "execution_count": 6,
   "id": "c4148144",
   "metadata": {},
   "outputs": [
    {
     "name": "stdout",
     "output_type": "stream",
     "text": [
      "entered value greater than or not equal to 34\n"
     ]
    }
   ],
   "source": [
    "if a<341:\n",
    " print(\"entered value is lesser than 34\")\n",
    "else: print(\"entered value greater than or not equal to 34\")     "
   ]
  },
  {
   "cell_type": "code",
   "execution_count": 28,
   "id": "480d4ac2",
   "metadata": {},
   "outputs": [
    {
     "name": "stdout",
     "output_type": "stream",
     "text": [
      "enter your salary 213123123\n"
     ]
    },
    {
     "name": "stdout",
     "output_type": "stream",
     "text": [
      "your salary is good\n",
      "i will go with toyoto\n"
     ]
    }
   ],
   "source": [
    "salary=int(input(\"enter your salary\"))\n",
    "\"\"\"\n",
    "sjf;jsajflksdjfkljsf\n",
    "\"\"\"\n",
    "if salary>1000:\n",
    "           print(\"your salary is good\")\n",
    "           if salary<5000 and salary<=10000:\n",
    "                 print(\"i will go with nano car\")\n",
    "           elif salary>10000 and salary<=15000:\n",
    "                 print(\"i will go with maruthi\")\n",
    "           elif salary>15000:\n",
    "                 print(\"i will go with toyoto\")\n",
    "           else:\n",
    "                 print(\"i will rent a car\")\n",
    "elif salary > 500:\n",
    "           print(\"i will go for bike\")\n",
    "elif salary > 100:\n",
    "           print(\"i will not buy anything\")\n",
    "else:\n",
    "           print(\"i will go for saving\")                 "
   ]
  },
  {
   "cell_type": "code",
   "execution_count": 1,
   "id": "94489a30-57b4-414c-9a2d-6c4e4ebda218",
   "metadata": {},
   "outputs": [
    {
     "name": "stdout",
     "output_type": "stream",
     "text": [
      "140706210584624\n"
     ]
    }
   ],
   "source": [
    "a=10\n",
    "b=30.6\n",
    "print(id(a))"
   ]
  },
  {
   "cell_type": "code",
   "execution_count": null,
   "id": "93527e53-705c-465b-96c6-08d7b061c43f",
   "metadata": {},
   "outputs": [],
   "source": []
  },
  {
   "cell_type": "code",
   "execution_count": null,
   "id": "f1a03979-113c-46e5-b2fc-29eba11a1e53",
   "metadata": {},
   "outputs": [
    {
     "name": "stdout",
     "output_type": "stream",
     "text": [
      "this is valid statement\n"
     ]
    }
   ],
   "source": [
    "a=10\n",
    "b=20 \n",
    "if a==10 or b>20:\n",
    "    print(\"this is valid statement\")\n",
    "elif a==10 and b<=20:\n",
    "    print(\"this statement is valid inside elif\")\n",
    "else:\n",
    "    print(\"condition is not valid\")\n",
    "    \n",
    "    "
   ]
  },
  {
   "cell_type": "code",
   "execution_count": 5,
   "id": "d02427dd-d3ce-4874-9558-12b56afdd04a",
   "metadata": {},
   "outputs": [
    {
     "name": "stdout",
     "output_type": "stream",
     "text": [
      "enter your first name mani kiran\n",
      "enter your last name puranam\n"
     ]
    },
    {
     "name": "stdout",
     "output_type": "stream",
     "text": [
      "correct name\n"
     ]
    }
   ],
   "source": [
    "a=input(\"enter your first name\")\n",
    "b=input(\"enter your last name\")\n",
    "\"\"\"print(\"great\"&a&b)\"\"\"\n",
    "if a=='mani kiran' and b=='puranam':\n",
    "    print(\"correct name\")\n",
    "else :\n",
    "    print(\"incorrect name\")\n",
    "    "
   ]
  },
  {
   "cell_type": "code",
   "execution_count": 6,
   "id": "69ca1d6d-98be-402b-a130-6dd18a740086",
   "metadata": {},
   "outputs": [
    {
     "name": "stdout",
     "output_type": "stream",
     "text": [
      "enter your first name manikiran\n",
      "enter your last name puranam\n"
     ]
    },
    {
     "name": "stdout",
     "output_type": "stream",
     "text": [
      "incorrect name\n"
     ]
    }
   ],
   "source": [
    "a=input(\"enter your first name\")\n",
    "b=input(\"enter your last name\")\n",
    "\"\"\"print(\"great\"&a&b)\"\"\"\n",
    "if a=='mani kiran' and b=='puranam':\n",
    "    print(\"correct name\")\n",
    "else :\n",
    "    print(\"incorrect name\")\n",
    "    "
   ]
  },
  {
   "cell_type": "code",
   "execution_count": null,
   "id": "3d4f56f2-ef89-4a05-9e2d-6f55e70f5fc0",
   "metadata": {},
   "outputs": [],
   "source": [
    "a=input(\"enter your first name\")\n",
    "b=input(\"enter your last name\")\n",
    "\"\"\"print(\"great\"&a&b)\"\"\"\n",
    "if a=='mani kiran' and b=='puranam':\n",
    "    print(\"correct name\")\n",
    "else :\n",
    "    print(\"incorrect name\")\n",
    "    "
   ]
  },
  {
   "cell_type": "code",
   "execution_count": 7,
   "id": "5cafb01b-bb4d-4f6d-b79e-d06253644557",
   "metadata": {},
   "outputs": [],
   "source": [
    "a=15"
   ]
  },
  {
   "cell_type": "code",
   "execution_count": 8,
   "id": "4ed34e71-9164-41dd-9851-4daa682e13ea",
   "metadata": {},
   "outputs": [
    {
     "data": {
      "text/plain": [
       "True"
      ]
     },
     "execution_count": 8,
     "metadata": {},
     "output_type": "execute_result"
    }
   ],
   "source": [
    "a==15 \n"
   ]
  },
  {
   "cell_type": "code",
   "execution_count": 10,
   "id": "b10fc618-2693-453b-866d-7b11872ba9fa",
   "metadata": {},
   "outputs": [
    {
     "name": "stdout",
     "output_type": "stream",
     "text": [
      "this is the speed i want\n",
      "this is the speed i want\n",
      "this is the speed i want\n",
      "this is the speed i want\n",
      "this is the speed i want\n",
      "this is the speed i want\n",
      "this is the speed i want\n",
      "this is the speed i want\n",
      "this is the speed i want\n",
      "this is the speed i want\n"
     ]
    }
   ],
   "source": [
    "initial_speed=0\n",
    "final_speed=1\n",
    "count=0\n",
    "while initial_speed<final_speed:\n",
    "    print(\"this is the speed i want\")\n",
    "    count=count+1\n",
    "    if count==10:\n",
    "      break"
   ]
  },
  {
   "cell_type": "code",
   "execution_count": null,
   "id": "6fbe817e-3f1d-47b3-8728-7ce60cdc1334",
   "metadata": {},
   "outputs": [],
   "source": [
    "initial_speed=0\n",
    "final_speed=1\n",
    "count=0\n",
    "while initial_speed<final_speed:\n",
    "    print(\"this is the speed i want\")\n",
    "    count=count+1\n",
    "    if count==10:\n",
    "      break"
   ]
  },
  {
   "cell_type": "code",
   "execution_count": 12,
   "id": "972f7fed-70db-4550-94ba-0487002b3040",
   "metadata": {},
   "outputs": [
    {
     "name": "stdout",
     "output_type": "stream",
     "text": [
      "1\n",
      "2\n",
      "3\n",
      "4\n",
      "5\n"
     ]
    }
   ],
   "source": [
    "i=1\n",
    "j=6\n",
    "while i<j:\n",
    "    print(i)\n",
    "    i=i+1\n",
    "    "
   ]
  },
  {
   "cell_type": "code",
   "execution_count": 6,
   "id": "37c6ce49-087a-4237-aedc-a00bef0f8160",
   "metadata": {},
   "outputs": [
    {
     "name": "stdout",
     "output_type": "stream",
     "text": [
      "1\n",
      "2\n",
      "3\n",
      "4\n",
      "5\n",
      "no 10 rs notes are available\n"
     ]
    }
   ],
   "source": [
    "notes=5\n",
    "i=1\n",
    "j=1\n",
    "while i<notes:\n",
    " print(i)\n",
    " i+=1\n",
    "else:\n",
    "    \n",
    "    while j<2:\n",
    "    print(i)\n",
    "    j=j+1\n",
    "    print(\"no 10 rs notes are available\")"
   ]
  },
  {
   "cell_type": "code",
   "execution_count": 7,
   "id": "a7fc3d8c-dce6-43e6-b8ea-91961450c996",
   "metadata": {},
   "outputs": [
    {
     "data": {
      "text/plain": [
       "'mani'"
      ]
     },
     "execution_count": 7,
     "metadata": {},
     "output_type": "execute_result"
    }
   ],
   "source": [
    "s=\"mani\"\n",
    "s"
   ]
  },
  {
   "cell_type": "code",
   "execution_count": 8,
   "id": "dadf3450-bbb6-4297-9da1-dc6a5374b213",
   "metadata": {},
   "outputs": [
    {
     "data": {
      "text/plain": [
       "'m'"
      ]
     },
     "execution_count": 8,
     "metadata": {},
     "output_type": "execute_result"
    }
   ],
   "source": [
    "s[0]"
   ]
  },
  {
   "cell_type": "code",
   "execution_count": 9,
   "id": "bbc61d87-54e2-4060-8d50-64e5fbf7d848",
   "metadata": {},
   "outputs": [
    {
     "ename": "IndexError",
     "evalue": "string index out of range",
     "output_type": "error",
     "traceback": [
      "\u001b[1;31m---------------------------------------------------------------------------\u001b[0m",
      "\u001b[1;31mIndexError\u001b[0m                                Traceback (most recent call last)",
      "\u001b[1;32m~\\AppData\\Local\\Temp/ipykernel_1656/4591516.py\u001b[0m in \u001b[0;36m<module>\u001b[1;34m\u001b[0m\n\u001b[1;32m----> 1\u001b[1;33m \u001b[0ms\u001b[0m\u001b[1;33m[\u001b[0m\u001b[1;36m20\u001b[0m\u001b[1;33m]\u001b[0m\u001b[1;33m\u001b[0m\u001b[1;33m\u001b[0m\u001b[0m\n\u001b[0m",
      "\u001b[1;31mIndexError\u001b[0m: string index out of range"
     ]
    }
   ],
   "source": [
    "s[20]\n"
   ]
  },
  {
   "cell_type": "code",
   "execution_count": 10,
   "id": "f3b57023-5b33-4ec0-a93b-f0f2797199a4",
   "metadata": {},
   "outputs": [
    {
     "name": "stderr",
     "output_type": "stream",
     "text": [
      "<>:1: SyntaxWarning: 'int' object is not subscriptable; perhaps you missed a comma?\n",
      "<>:1: SyntaxWarning: 'int' object is not subscriptable; perhaps you missed a comma?\n",
      "C:\\Users\\manik\\AppData\\Local\\Temp/ipykernel_1656/769348720.py:1: SyntaxWarning: 'int' object is not subscriptable; perhaps you missed a comma?\n",
      "  2[3]\n"
     ]
    },
    {
     "ename": "TypeError",
     "evalue": "'int' object is not subscriptable",
     "output_type": "error",
     "traceback": [
      "\u001b[1;31m---------------------------------------------------------------------------\u001b[0m",
      "\u001b[1;31mTypeError\u001b[0m                                 Traceback (most recent call last)",
      "\u001b[1;32m~\\AppData\\Local\\Temp/ipykernel_1656/769348720.py\u001b[0m in \u001b[0;36m<module>\u001b[1;34m\u001b[0m\n\u001b[1;32m----> 1\u001b[1;33m \u001b[1;36m2\u001b[0m\u001b[1;33m[\u001b[0m\u001b[1;36m3\u001b[0m\u001b[1;33m]\u001b[0m\u001b[1;33m\u001b[0m\u001b[1;33m\u001b[0m\u001b[0m\n\u001b[0m",
      "\u001b[1;31mTypeError\u001b[0m: 'int' object is not subscriptable"
     ]
    }
   ],
   "source": [
    "2[3]"
   ]
  },
  {
   "cell_type": "code",
   "execution_count": 11,
   "id": "78d1eb56-c067-4c39-a2b1-e352d26fece3",
   "metadata": {},
   "outputs": [
    {
     "data": {
      "text/plain": [
       "'i'"
      ]
     },
     "execution_count": 11,
     "metadata": {},
     "output_type": "execute_result"
    }
   ],
   "source": [
    "s[3]"
   ]
  },
  {
   "cell_type": "code",
   "execution_count": 13,
   "id": "98177fd0-ddeb-4a45-b40f-dca00640b061",
   "metadata": {},
   "outputs": [],
   "source": [
    "s='my name is manikiran'\n"
   ]
  },
  {
   "cell_type": "code",
   "execution_count": 14,
   "id": "8a4bbda8-ed0d-4d37-9d63-21bb391cd4ec",
   "metadata": {},
   "outputs": [
    {
     "data": {
      "text/plain": [
       "'my name is manikiran'"
      ]
     },
     "execution_count": 14,
     "metadata": {},
     "output_type": "execute_result"
    }
   ],
   "source": [
    "s\n"
   ]
  },
  {
   "cell_type": "code",
   "execution_count": 15,
   "id": "3c9d5db1-48c1-4fdc-b2ab-e1a4d6187a52",
   "metadata": {},
   "outputs": [
    {
     "data": {
      "text/plain": [
       "' '"
      ]
     },
     "execution_count": 15,
     "metadata": {},
     "output_type": "execute_result"
    }
   ],
   "source": [
    "s[10]"
   ]
  },
  {
   "cell_type": "code",
   "execution_count": 16,
   "id": "0d0ee238-4def-40ef-8e07-c9be9e1bedd4",
   "metadata": {},
   "outputs": [
    {
     "data": {
      "text/plain": [
       "'e'"
      ]
     },
     "execution_count": 16,
     "metadata": {},
     "output_type": "execute_result"
    }
   ],
   "source": [
    "s[6]"
   ]
  },
  {
   "cell_type": "code",
   "execution_count": 17,
   "id": "f96e1cd7-e926-4025-b1f0-41b9c7b28a6d",
   "metadata": {},
   "outputs": [
    {
     "data": {
      "text/plain": [
       "'m'"
      ]
     },
     "execution_count": 17,
     "metadata": {},
     "output_type": "execute_result"
    }
   ],
   "source": [
    "s[11]"
   ]
  },
  {
   "cell_type": "code",
   "execution_count": 18,
   "id": "75142037-fbd4-4323-9d88-33a47db90c40",
   "metadata": {},
   "outputs": [
    {
     "data": {
      "text/plain": [
       "'name is'"
      ]
     },
     "execution_count": 18,
     "metadata": {},
     "output_type": "execute_result"
    }
   ],
   "source": [
    "s[3:10]"
   ]
  },
  {
   "cell_type": "code",
   "execution_count": 19,
   "id": "f2464dbd-9201-4165-b37e-97fcc47a2cc9",
   "metadata": {},
   "outputs": [],
   "source": [
    "s=\"01234556\""
   ]
  },
  {
   "cell_type": "code",
   "execution_count": 20,
   "id": "e859e830-af9e-4924-bd27-2b6011e14e56",
   "metadata": {},
   "outputs": [
    {
     "data": {
      "text/plain": [
       "'3'"
      ]
     },
     "execution_count": 20,
     "metadata": {},
     "output_type": "execute_result"
    }
   ],
   "source": [
    "s[3]"
   ]
  },
  {
   "cell_type": "code",
   "execution_count": 21,
   "id": "4861e498-ced9-4e2c-b21f-655482dcec7c",
   "metadata": {},
   "outputs": [
    {
     "data": {
      "text/plain": [
       "'345'"
      ]
     },
     "execution_count": 21,
     "metadata": {},
     "output_type": "execute_result"
    }
   ],
   "source": [
    "s[3:6]"
   ]
  },
  {
   "cell_type": "code",
   "execution_count": 22,
   "id": "f13c7216-7c35-40a6-8538-98f810666144",
   "metadata": {},
   "outputs": [
    {
     "ename": "SyntaxError",
     "evalue": "invalid syntax (Temp/ipykernel_1656/1077053067.py, line 1)",
     "output_type": "error",
     "traceback": [
      "\u001b[1;36m  File \u001b[1;32m\"C:\\Users\\manik\\AppData\\Local\\Temp/ipykernel_1656/1077053067.py\"\u001b[1;36m, line \u001b[1;32m1\u001b[0m\n\u001b[1;33m    s=[3:6:1]\u001b[0m\n\u001b[1;37m        ^\u001b[0m\n\u001b[1;31mSyntaxError\u001b[0m\u001b[1;31m:\u001b[0m invalid syntax\n"
     ]
    }
   ],
   "source": [
    "s=[3:6:1]"
   ]
  },
  {
   "cell_type": "code",
   "execution_count": 24,
   "id": "9070f31b-219d-47a6-adc0-0be87004f2f8",
   "metadata": {},
   "outputs": [
    {
     "data": {
      "text/plain": [
       "'012345'"
      ]
     },
     "execution_count": 24,
     "metadata": {},
     "output_type": "execute_result"
    }
   ],
   "source": [
    "s[0:6:1]"
   ]
  },
  {
   "cell_type": "code",
   "execution_count": 25,
   "id": "73694ef5-c1bf-40ca-adc1-da273830201d",
   "metadata": {},
   "outputs": [
    {
     "data": {
      "text/plain": [
       "'024'"
      ]
     },
     "execution_count": 25,
     "metadata": {},
     "output_type": "execute_result"
    }
   ],
   "source": [
    "s[0:6:2]"
   ]
  },
  {
   "cell_type": "code",
   "execution_count": 26,
   "id": "5daf4594-9b46-47c3-ae89-57ee5364d2a9",
   "metadata": {},
   "outputs": [
    {
     "data": {
      "text/plain": [
       "''"
      ]
     },
     "execution_count": 26,
     "metadata": {},
     "output_type": "execute_result"
    }
   ],
   "source": [
    "s[6:0:2]"
   ]
  },
  {
   "cell_type": "code",
   "execution_count": 27,
   "id": "362926c7-ed6b-49b6-9fd0-770a0a3f47c2",
   "metadata": {},
   "outputs": [
    {
     "data": {
      "text/plain": [
       "''"
      ]
     },
     "execution_count": 27,
     "metadata": {},
     "output_type": "execute_result"
    }
   ],
   "source": [
    "s[6:1:2]"
   ]
  },
  {
   "cell_type": "code",
   "execution_count": 28,
   "id": "91094ba9-06e9-4f5e-8d21-35695157d162",
   "metadata": {},
   "outputs": [
    {
     "data": {
      "text/plain": [
       "'542'"
      ]
     },
     "execution_count": 28,
     "metadata": {},
     "output_type": "execute_result"
    }
   ],
   "source": [
    "s[6:1:-2]"
   ]
  },
  {
   "cell_type": "code",
   "execution_count": 29,
   "id": "2a561885-a196-4412-8d86-4e7153e7c8b9",
   "metadata": {},
   "outputs": [
    {
     "data": {
      "text/plain": [
       "'65543210'"
      ]
     },
     "execution_count": 29,
     "metadata": {},
     "output_type": "execute_result"
    }
   ],
   "source": [
    "s[::-1]"
   ]
  },
  {
   "cell_type": "code",
   "execution_count": 30,
   "id": "bc342b1d-3ea3-408d-95b9-bd0568a2135f",
   "metadata": {},
   "outputs": [],
   "source": [
    "s=\"0123456\""
   ]
  },
  {
   "cell_type": "code",
   "execution_count": 31,
   "id": "4fb14bda-0e85-4840-b090-b2f4f62d470a",
   "metadata": {},
   "outputs": [
    {
     "data": {
      "text/plain": [
       "'6543210'"
      ]
     },
     "execution_count": 31,
     "metadata": {},
     "output_type": "execute_result"
    }
   ],
   "source": [
    "s[::-1]"
   ]
  },
  {
   "cell_type": "code",
   "execution_count": 32,
   "id": "6d22a650-f866-4a0d-8886-2f91fae498a1",
   "metadata": {},
   "outputs": [
    {
     "data": {
      "text/plain": [
       "'642'"
      ]
     },
     "execution_count": 32,
     "metadata": {},
     "output_type": "execute_result"
    }
   ],
   "source": [
    "s[6:1:-2]"
   ]
  },
  {
   "cell_type": "code",
   "execution_count": 33,
   "id": "852aa127-3776-4454-9913-10bd0c1286cc",
   "metadata": {},
   "outputs": [
    {
     "data": {
      "text/plain": [
       "'0'"
      ]
     },
     "execution_count": 33,
     "metadata": {},
     "output_type": "execute_result"
    }
   ],
   "source": [
    "s[0:-6]"
   ]
  },
  {
   "cell_type": "code",
   "execution_count": 34,
   "id": "55f63271-1de2-4f20-860e-4438ca3e52b3",
   "metadata": {},
   "outputs": [
    {
     "data": {
      "text/plain": [
       "''"
      ]
     },
     "execution_count": 34,
     "metadata": {},
     "output_type": "execute_result"
    }
   ],
   "source": [
    "s[1:-6]"
   ]
  },
  {
   "cell_type": "code",
   "execution_count": 35,
   "id": "c78db163-3fb3-4290-b4b5-a15bbeb58217",
   "metadata": {},
   "outputs": [
    {
     "data": {
      "text/plain": [
       "'12'"
      ]
     },
     "execution_count": 35,
     "metadata": {},
     "output_type": "execute_result"
    }
   ],
   "source": [
    "s[-6:-4]"
   ]
  },
  {
   "cell_type": "code",
   "execution_count": 36,
   "id": "8011493d-3fdb-42e9-837b-c0600b08a92c",
   "metadata": {},
   "outputs": [
    {
     "data": {
      "text/plain": [
       "'1'"
      ]
     },
     "execution_count": 36,
     "metadata": {},
     "output_type": "execute_result"
    }
   ],
   "source": [
    "s[-6:-5]"
   ]
  },
  {
   "cell_type": "code",
   "execution_count": 38,
   "id": "ce64f2ff-852f-459c-88d2-2e83b926757e",
   "metadata": {},
   "outputs": [
    {
     "data": {
      "text/plain": [
       "''"
      ]
     },
     "execution_count": 38,
     "metadata": {},
     "output_type": "execute_result"
    }
   ],
   "source": [
    "s[-4:-6]"
   ]
  },
  {
   "cell_type": "code",
   "execution_count": 39,
   "id": "63f359cf-b36b-42ec-a676-69eca7a9186f",
   "metadata": {},
   "outputs": [
    {
     "name": "stdout",
     "output_type": "stream",
     "text": [
      "0\n",
      "1\n",
      "2\n",
      "3\n",
      "4\n",
      "5\n",
      "6\n"
     ]
    }
   ],
   "source": [
    "for i in s:\n",
    "    print(i)\n"
   ]
  },
  {
   "cell_type": "code",
   "execution_count": 44,
   "id": "a84e3c4c-3632-404f-84f2-4f78fe8bb55f",
   "metadata": {},
   "outputs": [
    {
     "ename": "IndentationError",
     "evalue": "unexpected indent (Temp/ipykernel_1656/388177720.py, line 4)",
     "output_type": "error",
     "traceback": [
      "\u001b[1;36m  File \u001b[1;32m\"C:\\Users\\manik\\AppData\\Local\\Temp/ipykernel_1656/388177720.py\"\u001b[1;36m, line \u001b[1;32m4\u001b[0m\n\u001b[1;33m    print(i)\u001b[0m\n\u001b[1;37m    ^\u001b[0m\n\u001b[1;31mIndentationError\u001b[0m\u001b[1;31m:\u001b[0m unexpected indent\n"
     ]
    }
   ],
   "source": [
    "for i in s:\n",
    "    if i=='5':\n",
    "        break\n",
    "         print(i)       "
   ]
  },
  {
   "cell_type": "code",
   "execution_count": 45,
   "id": "b1822f75-58aa-4366-afaa-6cdd18985642",
   "metadata": {},
   "outputs": [
    {
     "name": "stdout",
     "output_type": "stream",
     "text": [
      "0\n",
      "1\n",
      "2\n",
      "3\n",
      "4\n",
      "6\n"
     ]
    }
   ],
   "source": [
    "for i in s:\n",
    "    if i=='5':\n",
    "        continue\n",
    "    print(i) "
   ]
  },
  {
   "cell_type": "code",
   "execution_count": 46,
   "id": "4025c5f6-4421-4d57-a797-4722d1f57dd5",
   "metadata": {},
   "outputs": [
    {
     "name": "stdout",
     "output_type": "stream",
     "text": [
      "0\n",
      "1\n",
      "2\n",
      "3\n",
      "4\n",
      "6\n",
      "6 is the last letter\n"
     ]
    }
   ],
   "source": [
    "for i in s:\n",
    "    if i=='5':\n",
    "        continue\n",
    "    print(i) \n",
    "    \n",
    "else:\n",
    "    if i=='6':\n",
    "        print(\"6 is the last letter\")\n",
    "        "
   ]
  },
  {
   "cell_type": "code",
   "execution_count": null,
   "id": "44596211-7d60-4f4c-b27b-015f40cc593e",
   "metadata": {},
   "outputs": [],
   "source": []
  },
  {
   "cell_type": "code",
   "execution_count": 47,
   "id": "8d6ba57f-a11e-40ff-8f7c-cd4ef5950c8c",
   "metadata": {},
   "outputs": [
    {
     "name": "stdout",
     "output_type": "stream",
     "text": [
      "0\n",
      "1\n",
      "2\n",
      "3\n",
      "4\n",
      "6\n"
     ]
    }
   ],
   "source": [
    "for i in s:\n",
    "    if i=='5':\n",
    "        continue\n",
    "    print(i) \n",
    "    \n",
    "else:\n",
    "    if i=='5':\n",
    "        print(\"5 is the last letter\")\n",
    "        "
   ]
  },
  {
   "cell_type": "code",
   "execution_count": 48,
   "id": "7f302dc2-9262-4854-b0b9-fccff2ab37a2",
   "metadata": {},
   "outputs": [
    {
     "data": {
      "text/plain": [
       "'0123456'"
      ]
     },
     "execution_count": 48,
     "metadata": {},
     "output_type": "execute_result"
    }
   ],
   "source": [
    "s\n"
   ]
  },
  {
   "cell_type": "code",
   "execution_count": 49,
   "id": "bedf0fe7-571e-424c-9db7-4bad72ecf70b",
   "metadata": {},
   "outputs": [
    {
     "data": {
      "text/plain": [
       "7"
      ]
     },
     "execution_count": 49,
     "metadata": {},
     "output_type": "execute_result"
    }
   ],
   "source": [
    "len(s)"
   ]
  },
  {
   "cell_type": "code",
   "execution_count": 52,
   "id": "a3945e54-e9f6-4d4a-8ce1-8282ddee50c7",
   "metadata": {},
   "outputs": [
    {
     "data": {
      "text/plain": [
       "' 012346'"
      ]
     },
     "execution_count": 52,
     "metadata": {},
     "output_type": "execute_result"
    }
   ],
   "source": [
    "s=\"0123456\"\n",
    "ss=\" \"\n",
    "for i in range(len(s)):\n",
    "    if s[i]==\"5\":\n",
    "        continue\n",
    "    else:\n",
    "      ss=ss+s[i]\n",
    "ss    "
   ]
  },
  {
   "cell_type": "code",
   "execution_count": 55,
   "id": "d01da639-a282-4a1f-9642-e1ce7546a156",
   "metadata": {},
   "outputs": [
    {
     "data": {
      "text/plain": [
       "'012346'"
      ]
     },
     "execution_count": 55,
     "metadata": {},
     "output_type": "execute_result"
    }
   ],
   "source": [
    "s=\"0123456\"\n",
    "ss=\"\"\n",
    "for i in range(len(s)):\n",
    "    if s[i]==\"5\":\n",
    "        continue\n",
    "    else:\n",
    "      ss=ss+s[i]\n",
    "ss   "
   ]
  },
  {
   "cell_type": "code",
   "execution_count": 59,
   "id": "29f5f229-552f-4d49-a9fa-8ecb3e3d3806",
   "metadata": {},
   "outputs": [
    {
     "name": "stdout",
     "output_type": "stream",
     "text": [
      "*\n",
      "**\n",
      "***\n",
      "****\n",
      "*****\n",
      "******\n",
      "*******\n"
     ]
    }
   ],
   "source": [
    "n=7\n",
    "for i in range(0,n):\n",
    "    for j in range(0,i+1):\n",
    "        print(\"*\",end=\"\")\n",
    "    print(\"\\r\")    "
   ]
  },
  {
   "cell_type": "code",
   "execution_count": 93,
   "id": "539d313d-aa93-4445-bd49-80fd9a9dcda4",
   "metadata": {},
   "outputs": [
    {
     "name": "stdout",
     "output_type": "stream",
     "text": [
      "* * * * * * * \n",
      " * * * * * * \n",
      "  * * * * * \n",
      "   * * * * \n",
      "    * * * \n",
      "     * * \n",
      "      * \n"
     ]
    }
   ],
   "source": [
    "n=7\n",
    "space1=0\n",
    "for i in range(0,n):\n",
    "    for space in range(0,space1):\n",
    "        print(\" \",end=\"\")\n",
    "    for j in range(0,n):\n",
    "        print(\"* \",end=\"\")\n",
    "    print(\"\\r\") \n",
    "    space1=space1+1\n",
    "    n=n-1\n"
   ]
  },
  {
   "cell_type": "code",
   "execution_count": 96,
   "id": "c57b641c-f7a3-4c15-9fac-dc53feb96612",
   "metadata": {},
   "outputs": [
    {
     "name": "stdout",
     "output_type": "stream",
     "text": [
      "+++++"
     ]
    }
   ],
   "source": [
    "n=5\n",
    "n1=0\n",
    "i=1\n",
    "while i<(n+1):\n",
    "    print(\"+\",end=\"\")\n",
    "    print(\"\\r\n",
    "    i=i+1"
   ]
  },
  {
   "cell_type": "code",
   "execution_count": null,
   "id": "7119f3b9-dd31-4518-8119-bece3bbbdcbc",
   "metadata": {},
   "outputs": [],
   "source": [
    "n=5\n",
    "n1=0\n",
    "i=1\n",
    "while i<(n+1):\n",
    "    print(\"+\")\n",
    "    i=i+1"
   ]
  },
  {
   "cell_type": "code",
   "execution_count": null,
   "id": "a5b8d9dc-c8f5-4802-bc0b-d7aa7f8dd814",
   "metadata": {},
   "outputs": [],
   "source": [
    "notes=5\n",
    "i=1\n",
    "j=1\n",
    "while i<notes:\n",
    " print(i)\n",
    " i+=1\n",
    "else:\n",
    "    \n",
    "    while j<2:\n",
    "    print(i)\n",
    "    j=j+1\n",
    "    print(\"no 10 rs notes are available\")"
   ]
  },
  {
   "cell_type": "code",
   "execution_count": 23,
   "id": "d3eb1a17-77df-4bde-820e-45b46e0b6c72",
   "metadata": {},
   "outputs": [
    {
     "name": "stdout",
     "output_type": "stream",
     "text": [
      "enter number of rows u want: 15\n"
     ]
    },
    {
     "name": "stdout",
     "output_type": "stream",
     "text": [
      "* * * * * * * * * * * * * * * \n",
      " * * * * * * * * * * * * * * \n",
      "  * * * * * * * * * * * * * \n",
      "   * * * * * * * * * * * * \n",
      "    * * * * * * * * * * * \n",
      "     * * * * * * * * * * \n",
      "      * * * * * * * * * \n",
      "       * * * * * * * * \n",
      "        * * * * * * * \n",
      "         * * * * * * \n",
      "          * * * * * \n",
      "           * * * * \n",
      "            * * * \n",
      "             * * \n",
      "              * \n"
     ]
    }
   ],
   "source": [
    "n=int(input(\"enter number of rows u want:\"))\n",
    "space1=0\n",
    "for i in range(0,n):\n",
    "    for space in range(0,space1):\n",
    "        print(\" \",end=\"\")\n",
    "    for j in range(0,n):\n",
    "        print(\"* \",end=\"\")\n",
    "    print(\"\\r\") \n",
    "    space1=space1+1\n",
    "    n=n-1"
   ]
  },
  {
   "cell_type": "code",
   "execution_count": null,
   "id": "ab7b0539-ca42-4b36-9ff4-a09c49558652",
   "metadata": {},
   "outputs": [],
   "source": []
  },
  {
   "cell_type": "code",
   "execution_count": null,
   "id": "1552f382-ed1b-4e4c-ad57-ff4db047b1b4",
   "metadata": {},
   "outputs": [],
   "source": []
  },
  {
   "cell_type": "code",
   "execution_count": null,
   "id": "87d05600-c09e-4f31-a069-e82f96bb6af6",
   "metadata": {},
   "outputs": [],
   "source": []
  },
  {
   "cell_type": "code",
   "execution_count": 20,
   "id": "48d1b96f-19f8-484f-962a-bea2a4a95a08",
   "metadata": {},
   "outputs": [
    {
     "name": "stdout",
     "output_type": "stream",
     "text": [
      "enter number of rows u want: 15\n"
     ]
    },
    {
     "name": "stdout",
     "output_type": "stream",
     "text": [
      "                              \n",
      "              *               \n",
      "             * *              \n",
      "            * * *             \n",
      "           * * * *            \n",
      "          * * * * *           \n",
      "         * * * * * *          \n",
      "        * * * * * * *         \n",
      "       * * * * * * * *        \n",
      "      * * * * * * * * *       \n",
      "     * * * * * * * * * *      \n",
      "    * * * * * * * * * * *     \n",
      "   * * * * * * * * * * * *    \n",
      "  * * * * * * * * * * * * *   \n",
      " * * * * * * * * * * * * * *  \n",
      "* * * * * * * * * * * * * * * \n"
     ]
    }
   ],
   "source": [
    "n=int(input('enter number of rows u want:'))\n",
    "space1=n\n",
    "i=0\n",
    "i1=0\n",
    "i2=0\n",
    "while i<(n+1):\n",
    "    i3=0\n",
    "    while i1<space1:\n",
    "        print(' ',end='')\n",
    "        i1=i1+1\n",
    "    while i3<i:\n",
    "        print('* ',end='')\n",
    "        i3=i3+1    \n",
    "    while i2<space1:\n",
    "        print(' ',end='')\n",
    "        i2=i2+1   \n",
    "    print(\"\\r\")\n",
    "    i=i+1\n",
    "    space1=space1-1\n",
    "    i1=0\n",
    "    i2=0\n",
    "    "
   ]
  },
  {
   "cell_type": "code",
   "execution_count": 24,
   "id": "374ba7b4-2a87-4ad2-ba2e-628211c90e72",
   "metadata": {},
   "outputs": [
    {
     "name": "stdout",
     "output_type": "stream",
     "text": [
      "4\n",
      "5\n",
      "6\n",
      "7\n"
     ]
    }
   ],
   "source": [
    "for i in range(4,8):\n",
    "    print(i)\n",
    "    "
   ]
  },
  {
   "cell_type": "code",
   "execution_count": 26,
   "id": "910ad62c-c3b0-4223-baa3-963382f6083b",
   "metadata": {},
   "outputs": [
    {
     "name": "stdout",
     "output_type": "stream",
     "text": [
      "8\n",
      "7\n",
      "6\n",
      "5\n"
     ]
    }
   ],
   "source": [
    "for i in range (8,4,-1):\n",
    "    print(i)\n",
    "    "
   ]
  },
  {
   "cell_type": "code",
   "execution_count": 30,
   "id": "4294125c-b9e4-4afe-9758-69773cb028ff",
   "metadata": {},
   "outputs": [
    {
     "name": "stdout",
     "output_type": "stream",
     "text": [
      "0\n",
      "5\n",
      "10\n",
      "15\n",
      "20\n",
      "25\n",
      "30\n",
      "35\n",
      "40\n",
      "45\n",
      "50\n",
      "55\n",
      "60\n",
      "65\n",
      "70\n",
      "75\n",
      "80\n",
      "85\n",
      "90\n",
      "95\n",
      "100\n",
      "105\n",
      "110\n",
      "115\n",
      "120\n",
      "125\n",
      "130\n",
      "135\n",
      "140\n",
      "145\n",
      "150\n",
      "155\n",
      "160\n",
      "165\n",
      "170\n",
      "175\n",
      "180\n",
      "185\n",
      "190\n",
      "195\n",
      "200\n",
      "205\n",
      "210\n",
      "215\n",
      "220\n",
      "225\n",
      "230\n",
      "235\n",
      "240\n",
      "245\n",
      "250\n",
      "255\n",
      "260\n",
      "265\n",
      "270\n",
      "275\n",
      "280\n",
      "285\n",
      "290\n",
      "295\n",
      "300\n",
      "305\n",
      "310\n",
      "315\n",
      "320\n",
      "325\n",
      "330\n",
      "335\n",
      "340\n",
      "345\n",
      "350\n",
      "355\n",
      "360\n",
      "365\n",
      "370\n",
      "375\n",
      "380\n",
      "385\n",
      "390\n",
      "395\n",
      "400\n",
      "405\n",
      "410\n",
      "415\n",
      "420\n",
      "425\n",
      "430\n",
      "435\n",
      "440\n",
      "445\n",
      "450\n",
      "455\n",
      "460\n",
      "465\n",
      "470\n",
      "475\n",
      "480\n",
      "485\n",
      "490\n",
      "495\n",
      "500\n",
      "505\n",
      "510\n",
      "515\n",
      "520\n",
      "525\n",
      "530\n",
      "535\n",
      "540\n",
      "545\n",
      "550\n",
      "555\n",
      "560\n",
      "565\n",
      "570\n",
      "575\n",
      "580\n",
      "585\n",
      "590\n",
      "595\n",
      "600\n",
      "605\n",
      "610\n",
      "615\n",
      "620\n",
      "625\n",
      "630\n",
      "635\n",
      "640\n",
      "645\n",
      "650\n",
      "655\n",
      "660\n",
      "665\n",
      "670\n",
      "675\n",
      "680\n",
      "685\n",
      "690\n",
      "695\n",
      "700\n",
      "705\n",
      "710\n",
      "715\n",
      "720\n",
      "725\n",
      "730\n",
      "735\n",
      "740\n",
      "745\n",
      "750\n",
      "755\n",
      "760\n",
      "765\n",
      "770\n",
      "775\n",
      "780\n",
      "785\n",
      "790\n",
      "795\n",
      "800\n",
      "805\n",
      "810\n",
      "815\n",
      "820\n",
      "825\n",
      "830\n",
      "835\n",
      "840\n",
      "845\n",
      "850\n",
      "855\n",
      "860\n",
      "865\n",
      "870\n",
      "875\n",
      "880\n",
      "885\n",
      "890\n",
      "895\n",
      "900\n",
      "905\n",
      "910\n",
      "915\n",
      "920\n",
      "925\n",
      "930\n",
      "935\n",
      "940\n",
      "945\n",
      "950\n",
      "955\n",
      "960\n",
      "965\n",
      "970\n",
      "975\n",
      "980\n",
      "985\n",
      "990\n",
      "995\n",
      "1000\n"
     ]
    }
   ],
   "source": [
    "for i in range(0,1001,5):\n",
    "    print(i)"
   ]
  },
  {
   "cell_type": "code",
   "execution_count": 40,
   "id": "716e126a-52a9-4aa0-a111-93b227dee7de",
   "metadata": {},
   "outputs": [
    {
     "name": "stdout",
     "output_type": "stream",
     "text": [
      "enter number of rows: 10\n"
     ]
    },
    {
     "name": "stdout",
     "output_type": "stream",
     "text": [
      "*******************\n",
      " *****************\n",
      "  ***************\n",
      "   *************\n",
      "    ***********\n",
      "     *********\n",
      "      *******\n",
      "       *****\n",
      "        ***\n",
      "         *\n"
     ]
    }
   ],
   "source": [
    "n=int(input(\"enter number of rows:\"))\n",
    "for i in range(n,0,-1):\n",
    "      for j in range(n-i):\n",
    "           print(' ',end='')\n",
    "      for j in range(2*i-1):\n",
    "           print('*',end='')\n",
    "      print()      "
   ]
  },
  {
   "cell_type": "code",
   "execution_count": 78,
   "id": "9172ad58-1615-4bf8-86de-affc0f2f5d44",
   "metadata": {},
   "outputs": [
    {
     "ename": "IndentationError",
     "evalue": "unexpected indent (Temp/ipykernel_1656/838181927.py, line 3)",
     "output_type": "error",
     "traceback": [
      "\u001b[1;36m  File \u001b[1;32m\"C:\\Users\\manik\\AppData\\Local\\Temp/ipykernel_1656/838181927.py\"\u001b[1;36m, line \u001b[1;32m3\u001b[0m\n\u001b[1;33m    for space in range(0,space1):\u001b[0m\n\u001b[1;37m    ^\u001b[0m\n\u001b[1;31mIndentationError\u001b[0m\u001b[1;31m:\u001b[0m unexpected indent\n"
     ]
    }
   ],
   "source": [
    "n=7\n",
    "space1=0\n",
    "        for space in range(0,space1):\n",
    "             print(\"\")"
   ]
  },
  {
   "cell_type": "code",
   "execution_count": 97,
   "id": "052c1c93-16a6-43fb-9bd0-fb8ab7b2d5a1",
   "metadata": {},
   "outputs": [
    {
     "name": "stdout",
     "output_type": "stream",
     "text": [
      "\n"
     ]
    }
   ],
   "source": [
    "n=7\n",
    "space1=1\n",
    "for space in range(0,space1):\n",
    "    print(\"\\r\")"
   ]
  },
  {
   "cell_type": "code",
   "execution_count": null,
   "id": "4f5af342-266f-49e6-9302-d565b42ebaa4",
   "metadata": {},
   "outputs": [],
   "source": [
    "n=5\n",
    "n1=0\n",
    "i=0\n",
    "i1=0\n",
    "while i<(n+1):\n",
    "       while i1<n:\n",
    "            print(\" \",end=\"\")\n",
    "            i1=i1+1\n",
    "    print(\"+\",end=\"\")\n",
    "           while i1<n:\n",
    "            print(\" \",end=\"\")\n",
    "    print(\"\\r\")\n",
    "    i=i+1\n",
    "    "
   ]
  },
  {
   "cell_type": "code",
   "execution_count": 1,
   "id": "8ca2dfd4-bd91-49c1-a075-74ac5889193a",
   "metadata": {},
   "outputs": [
    {
     "name": "stdout",
     "output_type": "stream",
     "text": [
      "+++++"
     ]
    }
   ],
   "source": [
    "n=5\n",
    "n1=0\n",
    "i=0\n",
    "i1=0\n",
    "while i1<n:\n",
    "    print(\"+\",end=\"\")\n",
    "    i1=i1+1"
   ]
  },
  {
   "cell_type": "code",
   "execution_count": 2,
   "id": "a7ec0297-063e-4f17-b9c9-18825e883f04",
   "metadata": {},
   "outputs": [
    {
     "name": "stdout",
     "output_type": "stream",
     "text": [
      "     +\n",
      "+\n",
      "+\n",
      "+\n",
      "+\n",
      "+\n"
     ]
    }
   ],
   "source": [
    "n=5\n",
    "n1=0\n",
    "i=0\n",
    "i1=0\n",
    "while i<(n+1):\n",
    "    while i1<n:\n",
    "        print(' ',end=\"\")\n",
    "        i1=i1+1\n",
    "    print(\"+\",end=\"\")\n",
    "    while i1<n:\n",
    "        print(\" \",end=\"\")\n",
    "    print(\"\\r\")\n",
    "    i=i+1"
   ]
  },
  {
   "cell_type": "code",
   "execution_count": 1,
   "id": "30d78ef1-e50f-40e7-96e0-91cf5e2c693c",
   "metadata": {},
   "outputs": [
    {
     "name": "stdout",
     "output_type": "stream",
     "text": [
      "0\n",
      "1\n",
      "2\n"
     ]
    }
   ],
   "source": [
    "for i in range(3):\n",
    "    print(i)"
   ]
  },
  {
   "cell_type": "code",
   "execution_count": 1,
   "id": "5421ead0-72bc-4879-8731-50eff1929e79",
   "metadata": {},
   "outputs": [],
   "source": [
    "l=[]\n"
   ]
  },
  {
   "cell_type": "code",
   "execution_count": 2,
   "id": "c4478051-3490-4d30-b94d-bfb97f067b34",
   "metadata": {},
   "outputs": [
    {
     "data": {
      "text/plain": [
       "list"
      ]
     },
     "execution_count": 2,
     "metadata": {},
     "output_type": "execute_result"
    }
   ],
   "source": [
    "type(l)"
   ]
  },
  {
   "cell_type": "code",
   "execution_count": 3,
   "id": "d775ae69-d095-4418-991a-21892674f63c",
   "metadata": {},
   "outputs": [],
   "source": [
    "l=[\"mani\",343243,\"skfkas;l1\"]\n"
   ]
  },
  {
   "cell_type": "code",
   "execution_count": 4,
   "id": "b3a3c850-1615-452d-8326-ffabbd59b438",
   "metadata": {},
   "outputs": [
    {
     "data": {
      "text/plain": [
       "list"
      ]
     },
     "execution_count": 4,
     "metadata": {},
     "output_type": "execute_result"
    }
   ],
   "source": [
    "type(l)"
   ]
  },
  {
   "cell_type": "code",
   "execution_count": 5,
   "id": "f55c1cf0-8de0-40af-bfec-d5df7101a512",
   "metadata": {},
   "outputs": [
    {
     "data": {
      "text/plain": [
       "'mani'"
      ]
     },
     "execution_count": 5,
     "metadata": {},
     "output_type": "execute_result"
    }
   ],
   "source": [
    "l[0]"
   ]
  },
  {
   "cell_type": "code",
   "execution_count": 6,
   "id": "a6765ae7-e32e-4993-a222-2c48ffd07c56",
   "metadata": {},
   "outputs": [
    {
     "data": {
      "text/plain": [
       "343243"
      ]
     },
     "execution_count": 6,
     "metadata": {},
     "output_type": "execute_result"
    }
   ],
   "source": [
    "l[1]"
   ]
  },
  {
   "cell_type": "code",
   "execution_count": 7,
   "id": "0bad3b37-6529-4818-a028-9f5d539bca6b",
   "metadata": {},
   "outputs": [
    {
     "ename": "TypeError",
     "evalue": "'list' object is not callable",
     "output_type": "error",
     "traceback": [
      "\u001b[1;31m---------------------------------------------------------------------------\u001b[0m",
      "\u001b[1;31mTypeError\u001b[0m                                 Traceback (most recent call last)",
      "\u001b[1;32m~\\AppData\\Local\\Temp/ipykernel_2032/3841267438.py\u001b[0m in \u001b[0;36m<module>\u001b[1;34m\u001b[0m\n\u001b[1;32m----> 1\u001b[1;33m \u001b[0ml\u001b[0m\u001b[1;33m(\u001b[0m\u001b[1;36m0\u001b[0m\u001b[1;33m)\u001b[0m\u001b[1;33m\u001b[0m\u001b[1;33m\u001b[0m\u001b[0m\n\u001b[0m",
      "\u001b[1;31mTypeError\u001b[0m: 'list' object is not callable"
     ]
    }
   ],
   "source": [
    "l(0)"
   ]
  },
  {
   "cell_type": "code",
   "execution_count": 8,
   "id": "f7c2e91f-a795-4aa2-849c-f4072744e8d1",
   "metadata": {},
   "outputs": [
    {
     "data": {
      "text/plain": [
       "343243"
      ]
     },
     "execution_count": 8,
     "metadata": {},
     "output_type": "execute_result"
    }
   ],
   "source": [
    "l[1]"
   ]
  },
  {
   "cell_type": "code",
   "execution_count": 9,
   "id": "33e77cc7-62df-46a2-b984-c975bbc52b96",
   "metadata": {},
   "outputs": [
    {
     "data": {
      "text/plain": [
       "'skfkas;l1'"
      ]
     },
     "execution_count": 9,
     "metadata": {},
     "output_type": "execute_result"
    }
   ],
   "source": [
    "l[2]"
   ]
  },
  {
   "cell_type": "code",
   "execution_count": 10,
   "id": "3d67c19f-ae4e-444f-b3c7-42f20d7d8f2c",
   "metadata": {},
   "outputs": [],
   "source": [
    "l2=[\"sjfskdf;klsf\",3423432,\"jskfjklsdk;fs\"]"
   ]
  },
  {
   "cell_type": "code",
   "execution_count": 11,
   "id": "db2e9b98-ffec-4102-99b1-ab5f716f0b29",
   "metadata": {},
   "outputs": [
    {
     "data": {
      "text/plain": [
       "'jskfjklsdk;fs'"
      ]
     },
     "execution_count": 11,
     "metadata": {},
     "output_type": "execute_result"
    }
   ],
   "source": [
    "l2[2]"
   ]
  },
  {
   "cell_type": "code",
   "execution_count": 12,
   "id": "0ade609e-3428-455d-8d61-53a200a38c76",
   "metadata": {},
   "outputs": [
    {
     "data": {
      "text/plain": [
       "list"
      ]
     },
     "execution_count": 12,
     "metadata": {},
     "output_type": "execute_result"
    }
   ],
   "source": [
    "type(l2)"
   ]
  },
  {
   "cell_type": "code",
   "execution_count": 30,
   "id": "51640f0d-c52c-4d72-9104-4aaa7638721b",
   "metadata": {},
   "outputs": [],
   "source": [
    " l=[\"mani1\",2,\"3skfkas\",6,7]\n",
    "l2=[\"sjfskdf;klsf\",3423432,\"jskfjklsdk;fs\",True,4+5j,l]"
   ]
  },
  {
   "cell_type": "code",
   "execution_count": 38,
   "id": "3f699d73-b92b-4f34-abf5-3e46e922b82f",
   "metadata": {},
   "outputs": [
    {
     "name": "stdout",
     "output_type": "stream",
     "text": [
      "15\n",
      "<class 'int'>\n"
     ]
    }
   ],
   "source": [
    "for i in l2:\n",
    "    if type(i)==list:\n",
    "        n=0\n",
    "        for j in i:\n",
    "            if type(j)==int:\n",
    "              n=n+j\n",
    "        print(n)\n",
    "        print(type(j))"
   ]
  },
  {
   "cell_type": "code",
   "execution_count": 39,
   "id": "3e6cc8e5-99f7-44d1-90c5-6fea87fba469",
   "metadata": {},
   "outputs": [
    {
     "data": {
      "text/plain": [
       "int"
      ]
     },
     "execution_count": 39,
     "metadata": {},
     "output_type": "execute_result"
    }
   ],
   "source": [
    "type(j)"
   ]
  },
  {
   "cell_type": "code",
   "execution_count": 40,
   "id": "94d6108c-32ae-4ea3-9c0f-ee282ab09438",
   "metadata": {},
   "outputs": [
    {
     "data": {
      "text/plain": [
       "['sjfskdf;klsf',\n",
       " 3423432,\n",
       " 'jskfjklsdk;fs',\n",
       " True,\n",
       " (4+5j),\n",
       " ['mani1', 2, '3skfkas', 6, 7]]"
      ]
     },
     "execution_count": 40,
     "metadata": {},
     "output_type": "execute_result"
    }
   ],
   "source": [
    "l2"
   ]
  },
  {
   "cell_type": "code",
   "execution_count": 41,
   "id": "5013c3b6-9193-4800-bae1-479e8cd9d0fc",
   "metadata": {},
   "outputs": [
    {
     "data": {
      "text/plain": [
       "['jskfjklsdk;fs', True]"
      ]
     },
     "execution_count": 41,
     "metadata": {},
     "output_type": "execute_result"
    }
   ],
   "source": [
    "l2[2:4]"
   ]
  },
  {
   "cell_type": "code",
   "execution_count": 44,
   "id": "cc95f06e-a965-4803-adc0-42edd5d7e62a",
   "metadata": {},
   "outputs": [
    {
     "data": {
      "text/plain": [
       "[3423432, 'jskfjklsdk;fs', True]"
      ]
     },
     "execution_count": 44,
     "metadata": {},
     "output_type": "execute_result"
    }
   ],
   "source": [
    "l2[1:4:1]"
   ]
  },
  {
   "cell_type": "code",
   "execution_count": 45,
   "id": "1885fe3f-8fc0-4223-a9a1-f906a20d1150",
   "metadata": {},
   "outputs": [
    {
     "data": {
      "text/plain": [
       "[0, 1, 2, 3, 4, 5, 6, 7, 8, 9]"
      ]
     },
     "execution_count": 45,
     "metadata": {},
     "output_type": "execute_result"
    }
   ],
   "source": [
    "list(range(10))"
   ]
  },
  {
   "cell_type": "code",
   "execution_count": 46,
   "id": "98ef38bd-f36e-43ae-8841-de57e727fd66",
   "metadata": {},
   "outputs": [
    {
     "data": {
      "text/plain": [
       "range(0, 10)"
      ]
     },
     "execution_count": 46,
     "metadata": {},
     "output_type": "execute_result"
    }
   ],
   "source": [
    "range(10)"
   ]
  },
  {
   "cell_type": "code",
   "execution_count": 47,
   "id": "2baac3e8-3c3b-472c-9c58-71d2b65c1dfd",
   "metadata": {},
   "outputs": [
    {
     "data": {
      "text/plain": [
       "range(0, 11)"
      ]
     },
     "execution_count": 47,
     "metadata": {},
     "output_type": "execute_result"
    }
   ],
   "source": [
    "range(11)"
   ]
  },
  {
   "cell_type": "code",
   "execution_count": 48,
   "id": "123c2893-d2e2-47bd-9ca1-0fc9de9b7845",
   "metadata": {},
   "outputs": [
    {
     "data": {
      "text/plain": [
       "5"
      ]
     },
     "execution_count": 48,
     "metadata": {},
     "output_type": "execute_result"
    }
   ],
   "source": [
    "len(l)"
   ]
  },
  {
   "cell_type": "code",
   "execution_count": 49,
   "id": "bf1aa749-4d94-4580-9559-62af8d3361a9",
   "metadata": {},
   "outputs": [
    {
     "data": {
      "text/plain": [
       "6"
      ]
     },
     "execution_count": 49,
     "metadata": {},
     "output_type": "execute_result"
    }
   ],
   "source": [
    "len(l2)"
   ]
  },
  {
   "cell_type": "code",
   "execution_count": 52,
   "id": "428f2c21-0377-4865-92bc-ce976dae9b8e",
   "metadata": {},
   "outputs": [
    {
     "data": {
      "text/plain": [
       "13"
      ]
     },
     "execution_count": 52,
     "metadata": {},
     "output_type": "execute_result"
    }
   ],
   "source": [
    "len(l2[2])"
   ]
  },
  {
   "cell_type": "code",
   "execution_count": 53,
   "id": "8d63bd24-b408-4504-8bcd-b28cc716a9d8",
   "metadata": {},
   "outputs": [
    {
     "name": "stdout",
     "output_type": "stream",
     "text": [
      "m\n",
      "a\n",
      "n\n",
      "i\n"
     ]
    }
   ],
   "source": [
    "string=\"mani\"\n",
    "for i in string:\n",
    "    print(i)"
   ]
  },
  {
   "cell_type": "code",
   "execution_count": 57,
   "id": "233d7b86-13e3-45ce-9364-d068e4f21fdd",
   "metadata": {},
   "outputs": [
    {
     "name": "stdout",
     "output_type": "stream",
     "text": [
      "mani"
     ]
    }
   ],
   "source": [
    "for i in string:\n",
    "    print(i,end=\"\")"
   ]
  },
  {
   "cell_type": "code",
   "execution_count": 58,
   "id": "7a39b40e-93b6-4acb-b3cb-5aa10e64d63c",
   "metadata": {},
   "outputs": [],
   "source": [
    "l=[1,2,3,4]"
   ]
  },
  {
   "cell_type": "code",
   "execution_count": 59,
   "id": "31fd81db-4ecd-46c9-baec-1d9bdd712a17",
   "metadata": {},
   "outputs": [
    {
     "ename": "IndexError",
     "evalue": "list index out of range",
     "output_type": "error",
     "traceback": [
      "\u001b[1;31m---------------------------------------------------------------------------\u001b[0m",
      "\u001b[1;31mIndexError\u001b[0m                                Traceback (most recent call last)",
      "\u001b[1;32m~\\AppData\\Local\\Temp/ipykernel_2032/3011213518.py\u001b[0m in \u001b[0;36m<module>\u001b[1;34m\u001b[0m\n\u001b[1;32m----> 1\u001b[1;33m \u001b[0ml\u001b[0m\u001b[1;33m[\u001b[0m\u001b[1;36m4\u001b[0m\u001b[1;33m]\u001b[0m\u001b[1;33m\u001b[0m\u001b[1;33m\u001b[0m\u001b[0m\n\u001b[0m",
      "\u001b[1;31mIndexError\u001b[0m: list index out of range"
     ]
    }
   ],
   "source": [
    "l[4]"
   ]
  },
  {
   "cell_type": "code",
   "execution_count": 60,
   "id": "9323d20b-2ccc-467c-a613-1ddbee1dac62",
   "metadata": {},
   "outputs": [
    {
     "data": {
      "text/plain": [
       "4"
      ]
     },
     "execution_count": 60,
     "metadata": {},
     "output_type": "execute_result"
    }
   ],
   "source": [
    "l[3]"
   ]
  },
  {
   "cell_type": "code",
   "execution_count": 62,
   "id": "445ccd6d-4507-4838-afd7-4af92ad031eb",
   "metadata": {},
   "outputs": [
    {
     "data": {
      "text/plain": [
       "[4]"
      ]
     },
     "execution_count": 62,
     "metadata": {},
     "output_type": "execute_result"
    }
   ],
   "source": [
    "l[4:2:-2\n",
    " ]"
   ]
  },
  {
   "cell_type": "code",
   "execution_count": null,
   "id": "a5a267e2-4850-4925-ba9b-3249daeb74d8",
   "metadata": {},
   "outputs": [],
   "source": []
  },
  {
   "cell_type": "code",
   "execution_count": null,
   "id": "59720653-dadf-4b3d-8296-668814059301",
   "metadata": {},
   "outputs": [],
   "source": []
  },
  {
   "cell_type": "code",
   "execution_count": null,
   "id": "63ad4adb-debe-4e78-9b66-2a89387e8879",
   "metadata": {},
   "outputs": [],
   "source": []
  },
  {
   "cell_type": "code",
   "execution_count": null,
   "id": "32d11093-8fff-4b42-a443-4be026e0dc09",
   "metadata": {},
   "outputs": [],
   "source": []
  },
  {
   "cell_type": "code",
   "execution_count": null,
   "id": "b6548ded-9860-4b34-803d-28c65af69264",
   "metadata": {},
   "outputs": [],
   "source": []
  },
  {
   "cell_type": "code",
   "execution_count": null,
   "id": "0a1d0171-161a-4caa-9335-1cbfa7e00a1e",
   "metadata": {},
   "outputs": [],
   "source": []
  },
  {
   "cell_type": "code",
   "execution_count": null,
   "id": "b3a55c35-7e0f-4196-a94b-93c42c6ba32a",
   "metadata": {},
   "outputs": [],
   "source": []
  },
  {
   "cell_type": "code",
   "execution_count": null,
   "id": "e60d6f6b-6b0c-4ce6-958b-f7f080c9b10d",
   "metadata": {},
   "outputs": [],
   "source": []
  },
  {
   "cell_type": "code",
   "execution_count": null,
   "id": "eabae449-cb56-4574-9243-7de7e56d0f6d",
   "metadata": {},
   "outputs": [],
   "source": []
  },
  {
   "cell_type": "code",
   "execution_count": null,
   "id": "5dce89b9-85b9-416b-b692-84b6d93da1d7",
   "metadata": {},
   "outputs": [],
   "source": []
  },
  {
   "cell_type": "code",
   "execution_count": null,
   "id": "97cb9aa2-ec63-4a84-ace7-2beb770336bd",
   "metadata": {},
   "outputs": [],
   "source": []
  },
  {
   "cell_type": "code",
   "execution_count": null,
   "id": "52982d23-4823-437e-bbec-93d8607f0f32",
   "metadata": {},
   "outputs": [],
   "source": []
  },
  {
   "cell_type": "code",
   "execution_count": null,
   "id": "fcbe580d-5c88-492b-ad10-e387477ee58f",
   "metadata": {},
   "outputs": [],
   "source": []
  },
  {
   "cell_type": "code",
   "execution_count": null,
   "id": "328f05e5-edfa-4912-9e30-7897263fe69f",
   "metadata": {},
   "outputs": [],
   "source": []
  },
  {
   "cell_type": "code",
   "execution_count": null,
   "id": "01a7b3ff-98d7-46d3-a7e3-9d7302af9aad",
   "metadata": {},
   "outputs": [],
   "source": []
  },
  {
   "cell_type": "code",
   "execution_count": null,
   "id": "e6fce814-b1cd-44e0-93d1-9b1b2eb4811e",
   "metadata": {},
   "outputs": [],
   "source": []
  },
  {
   "cell_type": "code",
   "execution_count": null,
   "id": "4de4699e-4207-4928-8688-242cec588a46",
   "metadata": {},
   "outputs": [],
   "source": []
  },
  {
   "cell_type": "code",
   "execution_count": null,
   "id": "0e037c5b-d612-4832-b111-393064b6a286",
   "metadata": {},
   "outputs": [],
   "source": []
  },
  {
   "cell_type": "code",
   "execution_count": null,
   "id": "33060c70-5f08-4d9c-8d67-b30af112a50d",
   "metadata": {},
   "outputs": [],
   "source": []
  },
  {
   "cell_type": "code",
   "execution_count": null,
   "id": "7725b365-c039-4287-89e1-fa9caead62e1",
   "metadata": {},
   "outputs": [],
   "source": []
  },
  {
   "cell_type": "code",
   "execution_count": null,
   "id": "77870d1f-bdb5-4ea7-bedf-825ac9461778",
   "metadata": {},
   "outputs": [],
   "source": []
  },
  {
   "cell_type": "code",
   "execution_count": null,
   "id": "1df0c7c7-4ca1-4fd1-bf92-677568d7ea31",
   "metadata": {},
   "outputs": [],
   "source": []
  },
  {
   "cell_type": "code",
   "execution_count": null,
   "id": "a724b43d-4a35-48e1-ba40-acb6fa18b630",
   "metadata": {},
   "outputs": [],
   "source": []
  },
  {
   "cell_type": "code",
   "execution_count": null,
   "id": "b8db4c9c-cb77-4b53-a9b5-3885764fb000",
   "metadata": {},
   "outputs": [],
   "source": []
  },
  {
   "cell_type": "code",
   "execution_count": null,
   "id": "aaf98a4b-9476-4164-8c1e-13409e7a59fc",
   "metadata": {},
   "outputs": [],
   "source": []
  },
  {
   "cell_type": "code",
   "execution_count": null,
   "id": "fa0a183a-1598-4a45-af98-de6b3fe8ec86",
   "metadata": {},
   "outputs": [],
   "source": []
  },
  {
   "cell_type": "code",
   "execution_count": null,
   "id": "1ba783ee-f4e2-49ea-a1f3-d14051153a00",
   "metadata": {},
   "outputs": [],
   "source": []
  },
  {
   "cell_type": "code",
   "execution_count": null,
   "id": "607776b1-c986-4955-b45c-e97a97b80a04",
   "metadata": {},
   "outputs": [],
   "source": []
  },
  {
   "cell_type": "code",
   "execution_count": null,
   "id": "e809ef7e-7205-473b-94f1-090295a1d73b",
   "metadata": {},
   "outputs": [],
   "source": []
  },
  {
   "cell_type": "code",
   "execution_count": null,
   "id": "2273cd7d-0547-4f45-8c7e-e80bf0215b6d",
   "metadata": {},
   "outputs": [],
   "source": []
  },
  {
   "cell_type": "code",
   "execution_count": null,
   "id": "d020d96a-d1d7-4887-8384-d2c589f1a525",
   "metadata": {},
   "outputs": [],
   "source": []
  },
  {
   "cell_type": "code",
   "execution_count": null,
   "id": "6c93dd3b-8819-4379-b556-9a1915d5f01e",
   "metadata": {},
   "outputs": [],
   "source": []
  },
  {
   "cell_type": "code",
   "execution_count": null,
   "id": "5b6dfb94-d332-4afc-b8e1-b7d6cae5ba9c",
   "metadata": {},
   "outputs": [],
   "source": []
  },
  {
   "cell_type": "code",
   "execution_count": null,
   "id": "e4a73976-43cc-4446-a679-1afff4cdf2ab",
   "metadata": {},
   "outputs": [],
   "source": []
  },
  {
   "cell_type": "code",
   "execution_count": null,
   "id": "16ac9f75-2e0d-4224-8fa3-cf277069b81b",
   "metadata": {},
   "outputs": [],
   "source": []
  },
  {
   "cell_type": "code",
   "execution_count": null,
   "id": "6ffa9125-e339-4f13-a143-4681f25e12e1",
   "metadata": {},
   "outputs": [],
   "source": []
  },
  {
   "cell_type": "code",
   "execution_count": null,
   "id": "60ff8678-409a-498b-9e3c-6937b80db2bd",
   "metadata": {},
   "outputs": [],
   "source": []
  },
  {
   "cell_type": "code",
   "execution_count": null,
   "id": "dedde579-4828-496a-8132-7c186e464f30",
   "metadata": {},
   "outputs": [],
   "source": []
  },
  {
   "cell_type": "code",
   "execution_count": null,
   "id": "20c6c920-4cf6-471f-acd3-5aac6a1a9b9f",
   "metadata": {},
   "outputs": [],
   "source": []
  },
  {
   "cell_type": "code",
   "execution_count": null,
   "id": "1a566176-7192-4b98-a169-b424abd6a848",
   "metadata": {},
   "outputs": [],
   "source": []
  },
  {
   "cell_type": "code",
   "execution_count": null,
   "id": "c154e606-e088-4ed1-b840-c266a63e8bc4",
   "metadata": {},
   "outputs": [],
   "source": []
  }
 ],
 "metadata": {
  "kernelspec": {
   "display_name": "Python 3.8.10 64-bit",
   "language": "python",
   "name": "python3"
  },
  "language_info": {
   "codemirror_mode": {
    "name": "ipython",
    "version": 3
   },
   "file_extension": ".py",
   "mimetype": "text/x-python",
   "name": "python",
   "nbconvert_exporter": "python",
   "pygments_lexer": "ipython3",
   "version": "3.8.10"
  },
  "vscode": {
   "interpreter": {
    "hash": "de9bedb28e15a51cdc51c8d17c52c0daca92e114ad71bcc8f7f42553a4de9fc8"
   }
  }
 },
 "nbformat": 4,
 "nbformat_minor": 5
}
